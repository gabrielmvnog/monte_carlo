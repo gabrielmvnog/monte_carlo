{
 "cells": [
  {
   "cell_type": "markdown",
   "metadata": {},
   "source": [
    "# Monte Carlo Simulation\n",
    "\n",
    "The purpose of that application is to simulate the commission expenses of the next year of an imaginary company.\n",
    "\n",
    "**Necessary Imports **\n",
    "\n",
    "For this algorithm we will use the basics libraries of python known as Pandas, Numpy and Matplotlib."
   ]
  },
  {
   "cell_type": "code",
   "execution_count": 1,
   "metadata": {},
   "outputs": [],
   "source": [
    "import pandas as pd\n",
    "import numpy as np\n",
    "import matplotlib.pyplot as plt\n",
    "\n",
    "%matplotlib inline"
   ]
  },
  {
   "cell_type": "code",
   "execution_count": 2,
   "metadata": {},
   "outputs": [],
   "source": [
    "mean = 1\n",
    "std = 0.1\n",
    "n_employees = 500\n",
    "n_simulations = 1000"
   ]
  },
  {
   "cell_type": "markdown",
   "metadata": {},
   "source": [
    "** Data Generation **\n",
    "\n",
    "Here we create a simple dataset all random, to simulate some real simulation of the sales given the employee.\n",
    "\n",
    "Each row is an employee and each columns is an information of their sales and comissions\n",
    "\n",
    "* sales_pct: The sales percentage that an employee reached of the target value give to him/her, it will give us the actual value. (It's simulated in a Normal Distribution)\n",
    "* sales_expected: It's the expectation of the sales of the employees.\n",
    "* sales_prob: Is the distribuition of the sales_expected between the employees. (Sums up to 100%)\n",
    "* sales_target: Here we choose randomly sales_expected given the probabilities for the number of employees.\n",
    "* sales_actual: Is the actual sale given by the sales_pct * sales_target.\n",
    "* commission_rate: Rate of commission, given the sales probability.\n",
    "* commission_amount: Amount of the commision by employee."
   ]
  },
  {
   "cell_type": "code",
   "execution_count": 3,
   "metadata": {},
   "outputs": [],
   "source": [
    "sales_pct = np.random.normal(mean, std, n_employees).round(2)\n",
    "sales_expected = [75000, 100000, 200000, 300000, 400000, 500000]\n",
    "sales_prob = [0.3, 0.3, 0.2, 0.1, 0.05, 0.05]\n",
    "sales_target = np.random.choice(sales_expected, n_employees, p=sales_prob)\n",
    "sales_actual = sales_target * sales_pct"
   ]
  },
  {
   "cell_type": "code",
   "execution_count": 4,
   "metadata": {},
   "outputs": [],
   "source": [
    "def commision_rate_func(x: float) -> float:\n",
    "    \"\"\"\n",
    "        Given the actual sales porcentage from the expected sale, \n",
    "    it return the commission rate.\n",
    "    \n",
    "    INPUT\n",
    "    ------\n",
    "        x: a float value of the sales porcentage.\n",
    "        \n",
    "    RETURN\n",
    "    ------\n",
    "        commission rate in float.\n",
    "    \"\"\"\n",
    "    \n",
    "    return 0.02 if x <= 0.9 else 0.03 if x <= .99 else 0.04"
   ]
  },
  {
   "cell_type": "code",
   "execution_count": 5,
   "metadata": {},
   "outputs": [],
   "source": [
    "commission_rate = [commision_rate_func(pct) for pct in sales_pct]\n",
    "commission_amount = commission_rate * sales_actual"
   ]
  },
  {
   "cell_type": "code",
   "execution_count": 6,
   "metadata": {},
   "outputs": [],
   "source": [
    "df = pd.DataFrame(data={\n",
    "    'sales_expected': sales_target,\n",
    "    'sales_percentage': sales_pct,\n",
    "    'sales_actual': sales_actual,\n",
    "    'commission_rate': commission_rate,\n",
    "    'commission_amount': commission_amount\n",
    "})"
   ]
  },
  {
   "cell_type": "markdown",
   "metadata": {},
   "source": [
    "** Data exploration **"
   ]
  },
  {
   "cell_type": "code",
   "execution_count": 7,
   "metadata": {},
   "outputs": [
    {
     "data": {
      "text/html": [
       "<div>\n",
       "<style scoped>\n",
       "    .dataframe tbody tr th:only-of-type {\n",
       "        vertical-align: middle;\n",
       "    }\n",
       "\n",
       "    .dataframe tbody tr th {\n",
       "        vertical-align: top;\n",
       "    }\n",
       "\n",
       "    .dataframe thead th {\n",
       "        text-align: right;\n",
       "    }\n",
       "</style>\n",
       "<table border=\"1\" class=\"dataframe\">\n",
       "  <thead>\n",
       "    <tr style=\"text-align: right;\">\n",
       "      <th></th>\n",
       "      <th>sales_expected</th>\n",
       "      <th>sales_percentage</th>\n",
       "      <th>sales_actual</th>\n",
       "      <th>commission_rate</th>\n",
       "      <th>commission_amount</th>\n",
       "    </tr>\n",
       "  </thead>\n",
       "  <tbody>\n",
       "    <tr>\n",
       "      <th>0</th>\n",
       "      <td>100000</td>\n",
       "      <td>0.91</td>\n",
       "      <td>91000.0</td>\n",
       "      <td>0.03</td>\n",
       "      <td>2730.0</td>\n",
       "    </tr>\n",
       "    <tr>\n",
       "      <th>1</th>\n",
       "      <td>300000</td>\n",
       "      <td>0.96</td>\n",
       "      <td>288000.0</td>\n",
       "      <td>0.03</td>\n",
       "      <td>8640.0</td>\n",
       "    </tr>\n",
       "    <tr>\n",
       "      <th>2</th>\n",
       "      <td>500000</td>\n",
       "      <td>1.18</td>\n",
       "      <td>590000.0</td>\n",
       "      <td>0.04</td>\n",
       "      <td>23600.0</td>\n",
       "    </tr>\n",
       "    <tr>\n",
       "      <th>3</th>\n",
       "      <td>200000</td>\n",
       "      <td>0.74</td>\n",
       "      <td>148000.0</td>\n",
       "      <td>0.02</td>\n",
       "      <td>2960.0</td>\n",
       "    </tr>\n",
       "    <tr>\n",
       "      <th>4</th>\n",
       "      <td>100000</td>\n",
       "      <td>0.94</td>\n",
       "      <td>94000.0</td>\n",
       "      <td>0.03</td>\n",
       "      <td>2820.0</td>\n",
       "    </tr>\n",
       "  </tbody>\n",
       "</table>\n",
       "</div>"
      ],
      "text/plain": [
       "   sales_expected  sales_percentage  sales_actual  commission_rate  \\\n",
       "0          100000              0.91       91000.0             0.03   \n",
       "1          300000              0.96      288000.0             0.03   \n",
       "2          500000              1.18      590000.0             0.04   \n",
       "3          200000              0.74      148000.0             0.02   \n",
       "4          100000              0.94       94000.0             0.03   \n",
       "\n",
       "   commission_amount  \n",
       "0             2730.0  \n",
       "1             8640.0  \n",
       "2            23600.0  \n",
       "3             2960.0  \n",
       "4             2820.0  "
      ]
     },
     "execution_count": 7,
     "metadata": {},
     "output_type": "execute_result"
    }
   ],
   "source": [
    "df.head()"
   ]
  },
  {
   "cell_type": "code",
   "execution_count": 8,
   "metadata": {},
   "outputs": [
    {
     "data": {
      "text/html": [
       "<div>\n",
       "<style scoped>\n",
       "    .dataframe tbody tr th:only-of-type {\n",
       "        vertical-align: middle;\n",
       "    }\n",
       "\n",
       "    .dataframe tbody tr th {\n",
       "        vertical-align: top;\n",
       "    }\n",
       "\n",
       "    .dataframe thead th {\n",
       "        text-align: right;\n",
       "    }\n",
       "</style>\n",
       "<table border=\"1\" class=\"dataframe\">\n",
       "  <thead>\n",
       "    <tr style=\"text-align: right;\">\n",
       "      <th></th>\n",
       "      <th>sales_expected</th>\n",
       "      <th>sales_percentage</th>\n",
       "      <th>sales_actual</th>\n",
       "      <th>commission_rate</th>\n",
       "      <th>commission_amount</th>\n",
       "    </tr>\n",
       "  </thead>\n",
       "  <tbody>\n",
       "    <tr>\n",
       "      <th>count</th>\n",
       "      <td>500.000000</td>\n",
       "      <td>500.000000</td>\n",
       "      <td>500.000000</td>\n",
       "      <td>500.000000</td>\n",
       "      <td>500.000000</td>\n",
       "    </tr>\n",
       "    <tr>\n",
       "      <th>mean</th>\n",
       "      <td>168700.000000</td>\n",
       "      <td>0.998040</td>\n",
       "      <td>168345.500000</td>\n",
       "      <td>0.033280</td>\n",
       "      <td>5714.970000</td>\n",
       "    </tr>\n",
       "    <tr>\n",
       "      <th>std</th>\n",
       "      <td>120402.672758</td>\n",
       "      <td>0.101467</td>\n",
       "      <td>122286.726965</td>\n",
       "      <td>0.007679</td>\n",
       "      <td>4628.601133</td>\n",
       "    </tr>\n",
       "    <tr>\n",
       "      <th>min</th>\n",
       "      <td>75000.000000</td>\n",
       "      <td>0.660000</td>\n",
       "      <td>57000.000000</td>\n",
       "      <td>0.020000</td>\n",
       "      <td>1140.000000</td>\n",
       "    </tr>\n",
       "    <tr>\n",
       "      <th>25%</th>\n",
       "      <td>75000.000000</td>\n",
       "      <td>0.930000</td>\n",
       "      <td>84000.000000</td>\n",
       "      <td>0.030000</td>\n",
       "      <td>2880.000000</td>\n",
       "    </tr>\n",
       "    <tr>\n",
       "      <th>50%</th>\n",
       "      <td>100000.000000</td>\n",
       "      <td>1.000000</td>\n",
       "      <td>106000.000000</td>\n",
       "      <td>0.040000</td>\n",
       "      <td>4080.000000</td>\n",
       "    </tr>\n",
       "    <tr>\n",
       "      <th>75%</th>\n",
       "      <td>200000.000000</td>\n",
       "      <td>1.070000</td>\n",
       "      <td>214000.000000</td>\n",
       "      <td>0.040000</td>\n",
       "      <td>8167.500000</td>\n",
       "    </tr>\n",
       "    <tr>\n",
       "      <th>max</th>\n",
       "      <td>500000.000000</td>\n",
       "      <td>1.320000</td>\n",
       "      <td>595000.000000</td>\n",
       "      <td>0.040000</td>\n",
       "      <td>23800.000000</td>\n",
       "    </tr>\n",
       "  </tbody>\n",
       "</table>\n",
       "</div>"
      ],
      "text/plain": [
       "       sales_expected  sales_percentage   sales_actual  commission_rate  \\\n",
       "count      500.000000        500.000000     500.000000       500.000000   \n",
       "mean    168700.000000          0.998040  168345.500000         0.033280   \n",
       "std     120402.672758          0.101467  122286.726965         0.007679   \n",
       "min      75000.000000          0.660000   57000.000000         0.020000   \n",
       "25%      75000.000000          0.930000   84000.000000         0.030000   \n",
       "50%     100000.000000          1.000000  106000.000000         0.040000   \n",
       "75%     200000.000000          1.070000  214000.000000         0.040000   \n",
       "max     500000.000000          1.320000  595000.000000         0.040000   \n",
       "\n",
       "       commission_amount  \n",
       "count         500.000000  \n",
       "mean         5714.970000  \n",
       "std          4628.601133  \n",
       "min          1140.000000  \n",
       "25%          2880.000000  \n",
       "50%          4080.000000  \n",
       "75%          8167.500000  \n",
       "max         23800.000000  "
      ]
     },
     "execution_count": 8,
     "metadata": {},
     "output_type": "execute_result"
    }
   ],
   "source": [
    "df.describe()"
   ]
  },
  {
   "cell_type": "code",
   "execution_count": 9,
   "metadata": {},
   "outputs": [
    {
     "name": "stdout",
     "output_type": "stream",
     "text": [
      "<class 'pandas.core.frame.DataFrame'>\n",
      "RangeIndex: 500 entries, 0 to 499\n",
      "Data columns (total 5 columns):\n",
      "sales_expected       500 non-null int64\n",
      "sales_percentage     500 non-null float64\n",
      "sales_actual         500 non-null float64\n",
      "commission_rate      500 non-null float64\n",
      "commission_amount    500 non-null float64\n",
      "dtypes: float64(4), int64(1)\n",
      "memory usage: 19.7 KB\n"
     ]
    }
   ],
   "source": [
    "df.info()"
   ]
  },
  {
   "cell_type": "markdown",
   "metadata": {},
   "source": [
    "** Monte Carlo Simulation **\n",
    "\n",
    "Here is where the magic happen!\n",
    "\n",
    "Now that we simulated an example of the dataset, we can continue to the Monte Carlo Simulation.\n",
    "\n",
    "The simulation consist in a loop of 1000 interations (can increment, depending of the project), inside that is the steps to calculate the commission amount. This is need when we want to estimate the future commission expenses, it's an heuristic technic and can approximate some expensive real functions. \n",
    "\n",
    "It work like magic!"
   ]
  },
  {
   "cell_type": "code",
   "execution_count": 10,
   "metadata": {},
   "outputs": [],
   "source": [
    "commission_total = np.zeros(n_simulations)\n",
    "\n",
    "for i in range(n_simulations):\n",
    "    sales_target = np.random.choice(sales_expected, n_employees, p=sales_prob)\n",
    "    sales_pct = np.random.normal(mean, std, n_employees).round(2)\n",
    "    \n",
    "    sales_actual = sales_target * sales_pct  \n",
    "    commission_rate = [commision_rate_func(pct) for pct in sales_pct]\n",
    "    commission_amount = commission_rate * sales_actual\n",
    "    \n",
    "    commission_total[i] = commission_amount.sum()"
   ]
  },
  {
   "cell_type": "code",
   "execution_count": 11,
   "metadata": {},
   "outputs": [
    {
     "name": "stdout",
     "output_type": "stream",
     "text": [
      "Comission Stats\n",
      "\n",
      "Mean: 2861046.52\n",
      "Min: 2545817.50\n",
      "Max: 3188765.00\n"
     ]
    }
   ],
   "source": [
    "print(\"Comission Stats\\n\")\n",
    "print(f\"Mean: {commission_total.mean():.2f}\")\n",
    "print(f\"Min: {commission_total.min():.2f}\")\n",
    "print(f\"Max: {commission_total.max():.2f}\")"
   ]
  },
  {
   "cell_type": "code",
   "execution_count": 12,
   "metadata": {},
   "outputs": [
    {
     "data": {
      "image/png": "[encoded data removed]",
      "text/plain": [
       "<Figure size 576x576 with 1 Axes>"
      ]
     },
     "metadata": {
      "needs_background": "light"
     },
     "output_type": "display_data"
    }
   ],
   "source": [
    "plt.figure(figsize=(8,8))\n",
    "plt.title('Commission Amount')\n",
    "plt.ylabel('Frequency')\n",
    "plt.xlabel('Amount (BRL)')\n",
    "plt.hist(commission_total, bins=10)\n",
    "plt.show()"
   ]
  },
  {
   "cell_type": "markdown",
   "metadata": {},
   "source": [
    "** Conclusion **\n",
    "\n",
    "At the end we can see that it can help predict some impact in a company, like the next year expenses with commissions.\n",
    "\n",
    "Here we can see that the mean value of comission expenses is about 2.861.046, for being a normal distribution is know that it's the more likely value in here, other distribuition can change that perception. \n",
    "\n",
    "The max value that commission can have is 3.188.765 and the min is about 2.545.817.\n",
    "\n",
    "So, knowing some stuffs like that, the company can be prepared for the future."
   ]
  }
 ],
 "metadata": {
  "kernelspec": {
   "display_name": "jupyter3",
   "language": "python",
   "name": "jupyter3"
  },
  "language_info": {
   "codemirror_mode": {
    "name": "ipython",
    "version": 3
   },
   "file_extension": ".py",
   "mimetype": "text/x-python",
   "name": "python",
   "nbconvert_exporter": "python",
   "pygments_lexer": "ipython3",
   "version": "3.7.5"
  }
 },
 "nbformat": 4,
 "nbformat_minor": 2
}
